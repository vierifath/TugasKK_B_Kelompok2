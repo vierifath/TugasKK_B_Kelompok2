{
  "nbformat": 4,
  "nbformat_minor": 0,
  "metadata": {
    "colab": {
      "name": "KNN.ipynb",
      "provenance": [],
      "collapsed_sections": []
    },
    "kernelspec": {
      "display_name": "Python 3",
      "name": "python3"
    }
  },
  "cells": [
    {
      "cell_type": "markdown",
      "metadata": {
        "id": "uccxJo9pcxOi"
      },
      "source": [
        "# Import Library yang dibutuhkan"
      ]
    },
    {
      "cell_type": "markdown",
      "metadata": {
        "id": "KErMkimSc6Ni"
      },
      "source": [
        "Disini, kami menggunakan library sklearn.neighbors import KNeighborsClassifier untuk melakukan klasifikasi menggunakan K Nearest Neigbors"
      ]
    },
    {
      "cell_type": "code",
      "metadata": {
        "id": "jDER3UmDqhzY"
      },
      "source": [
        "import pandas as pd # Dataframe\n",
        "import numpy as np\n",
        "import math\n",
        "\n",
        "# Model related\n",
        "\n",
        "from sklearn.neighbors import KNeighborsClassifier # KNN\n",
        "from sklearn.model_selection import train_test_split # Import train_test_split function\n",
        "from sklearn import metrics #Import scikit-learn metrics module for accuracy calculation\n",
        "from sklearn.svm import SVC # SVM\n",
        "\n",
        "\n",
        "# Visualisasi\n",
        "from sklearn import tree # Visualisasi Decision Tree\n",
        "import matplotlib.pyplot as pl"
      ],
      "execution_count": null,
      "outputs": []
    },
    {
      "cell_type": "markdown",
      "metadata": {
        "id": "PzgVOi2Ic16V"
      },
      "source": [
        "# Upload Dataset"
      ]
    },
    {
      "cell_type": "markdown",
      "metadata": {
        "id": "8g6gFd-2dh2Z"
      },
      "source": [
        "Dataset Rain in Australia berisi tentang pengamatan cuaca harian pada daerah - daerah di seluruh Australia yang berisi 145460.\r\n",
        "\r\n",
        "Dataset ini memiliki variabel target yaitu RainTomorow yaitu prediksi hujan pada esok hari"
      ]
    },
    {
      "cell_type": "code",
      "metadata": {
        "colab": {
          "resources": {
            "http://localhost:8080/nbextensions/google.colab/files.js": {
              "data": "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",
              "headers": [
                [
                  "content-type",
                  "application/javascript"
                ]
              ],
              "ok": true,
              "status": 200,
              "status_text": ""
            }
          },
          "base_uri": "https://localhost:8080/",
          "height": 74
        },
        "id": "1niiXJsnrWuY",
        "outputId": "c35bc8ba-0f9e-499c-c396-9e624a356de9"
      },
      "source": [
        "from google.colab import files\n",
        "uploaded = files.upload() "
      ],
      "execution_count": null,
      "outputs": [
        {
          "output_type": "display_data",
          "data": {
            "text/html": [
              "\n",
              "     <input type=\"file\" id=\"files-d0577012-856e-46fe-9ce6-7d0af265740e\" name=\"files[]\" multiple disabled\n",
              "        style=\"border:none\" />\n",
              "     <output id=\"result-d0577012-856e-46fe-9ce6-7d0af265740e\">\n",
              "      Upload widget is only available when the cell has been executed in the\n",
              "      current browser session. Please rerun this cell to enable.\n",
              "      </output>\n",
              "      <script src=\"/nbextensions/google.colab/files.js\"></script> "
            ],
            "text/plain": [
              "<IPython.core.display.HTML object>"
            ]
          },
          "metadata": {
            "tags": []
          }
        },
        {
          "output_type": "stream",
          "text": [
            "Saving weatherAUS.csv to weatherAUS.csv\n"
          ],
          "name": "stdout"
        }
      ]
    },
    {
      "cell_type": "code",
      "metadata": {
        "id": "vtnDs1FKrXb0"
      },
      "source": [
        "df = pd.read_csv(\"weatherAUS.csv\")"
      ],
      "execution_count": null,
      "outputs": []
    },
    {
      "cell_type": "code",
      "metadata": {
        "colab": {
          "base_uri": "https://localhost:8080/",
          "height": 298
        },
        "id": "RG9obfdUrXlD",
        "outputId": "0bf4ee5e-3f05-4ad1-d56c-dd718c7425e0"
      },
      "source": [
        "df.head()"
      ],
      "execution_count": null,
      "outputs": [
        {
          "output_type": "execute_result",
          "data": {
            "text/html": [
              "<div>\n",
              "<style scoped>\n",
              "    .dataframe tbody tr th:only-of-type {\n",
              "        vertical-align: middle;\n",
              "    }\n",
              "\n",
              "    .dataframe tbody tr th {\n",
              "        vertical-align: top;\n",
              "    }\n",
              "\n",
              "    .dataframe thead th {\n",
              "        text-align: right;\n",
              "    }\n",
              "</style>\n",
              "<table border=\"1\" class=\"dataframe\">\n",
              "  <thead>\n",
              "    <tr style=\"text-align: right;\">\n",
              "      <th></th>\n",
              "      <th>Date</th>\n",
              "      <th>Location</th>\n",
              "      <th>MinTemp</th>\n",
              "      <th>MaxTemp</th>\n",
              "      <th>Rainfall</th>\n",
              "      <th>Evaporation</th>\n",
              "      <th>Sunshine</th>\n",
              "      <th>WindGustDir</th>\n",
              "      <th>WindGustSpeed</th>\n",
              "      <th>WindDir9am</th>\n",
              "      <th>WindDir3pm</th>\n",
              "      <th>WindSpeed9am</th>\n",
              "      <th>WindSpeed3pm</th>\n",
              "      <th>Humidity9am</th>\n",
              "      <th>Humidity3pm</th>\n",
              "      <th>Pressure9am</th>\n",
              "      <th>Pressure3pm</th>\n",
              "      <th>Cloud9am</th>\n",
              "      <th>Cloud3pm</th>\n",
              "      <th>Temp9am</th>\n",
              "      <th>Temp3pm</th>\n",
              "      <th>RainToday</th>\n",
              "      <th>RainTomorrow</th>\n",
              "    </tr>\n",
              "  </thead>\n",
              "  <tbody>\n",
              "    <tr>\n",
              "      <th>0</th>\n",
              "      <td>2008-12-01</td>\n",
              "      <td>Albury</td>\n",
              "      <td>13.4</td>\n",
              "      <td>22.9</td>\n",
              "      <td>0.6</td>\n",
              "      <td>NaN</td>\n",
              "      <td>NaN</td>\n",
              "      <td>W</td>\n",
              "      <td>44.0</td>\n",
              "      <td>W</td>\n",
              "      <td>WNW</td>\n",
              "      <td>20.0</td>\n",
              "      <td>24.0</td>\n",
              "      <td>71.0</td>\n",
              "      <td>22.0</td>\n",
              "      <td>1007.7</td>\n",
              "      <td>1007.1</td>\n",
              "      <td>8.0</td>\n",
              "      <td>NaN</td>\n",
              "      <td>16.9</td>\n",
              "      <td>21.8</td>\n",
              "      <td>No</td>\n",
              "      <td>No</td>\n",
              "    </tr>\n",
              "    <tr>\n",
              "      <th>1</th>\n",
              "      <td>2008-12-02</td>\n",
              "      <td>Albury</td>\n",
              "      <td>7.4</td>\n",
              "      <td>25.1</td>\n",
              "      <td>0.0</td>\n",
              "      <td>NaN</td>\n",
              "      <td>NaN</td>\n",
              "      <td>WNW</td>\n",
              "      <td>44.0</td>\n",
              "      <td>NNW</td>\n",
              "      <td>WSW</td>\n",
              "      <td>4.0</td>\n",
              "      <td>22.0</td>\n",
              "      <td>44.0</td>\n",
              "      <td>25.0</td>\n",
              "      <td>1010.6</td>\n",
              "      <td>1007.8</td>\n",
              "      <td>NaN</td>\n",
              "      <td>NaN</td>\n",
              "      <td>17.2</td>\n",
              "      <td>24.3</td>\n",
              "      <td>No</td>\n",
              "      <td>No</td>\n",
              "    </tr>\n",
              "    <tr>\n",
              "      <th>2</th>\n",
              "      <td>2008-12-03</td>\n",
              "      <td>Albury</td>\n",
              "      <td>12.9</td>\n",
              "      <td>25.7</td>\n",
              "      <td>0.0</td>\n",
              "      <td>NaN</td>\n",
              "      <td>NaN</td>\n",
              "      <td>WSW</td>\n",
              "      <td>46.0</td>\n",
              "      <td>W</td>\n",
              "      <td>WSW</td>\n",
              "      <td>19.0</td>\n",
              "      <td>26.0</td>\n",
              "      <td>38.0</td>\n",
              "      <td>30.0</td>\n",
              "      <td>1007.6</td>\n",
              "      <td>1008.7</td>\n",
              "      <td>NaN</td>\n",
              "      <td>2.0</td>\n",
              "      <td>21.0</td>\n",
              "      <td>23.2</td>\n",
              "      <td>No</td>\n",
              "      <td>No</td>\n",
              "    </tr>\n",
              "    <tr>\n",
              "      <th>3</th>\n",
              "      <td>2008-12-04</td>\n",
              "      <td>Albury</td>\n",
              "      <td>9.2</td>\n",
              "      <td>28.0</td>\n",
              "      <td>0.0</td>\n",
              "      <td>NaN</td>\n",
              "      <td>NaN</td>\n",
              "      <td>NE</td>\n",
              "      <td>24.0</td>\n",
              "      <td>SE</td>\n",
              "      <td>E</td>\n",
              "      <td>11.0</td>\n",
              "      <td>9.0</td>\n",
              "      <td>45.0</td>\n",
              "      <td>16.0</td>\n",
              "      <td>1017.6</td>\n",
              "      <td>1012.8</td>\n",
              "      <td>NaN</td>\n",
              "      <td>NaN</td>\n",
              "      <td>18.1</td>\n",
              "      <td>26.5</td>\n",
              "      <td>No</td>\n",
              "      <td>No</td>\n",
              "    </tr>\n",
              "    <tr>\n",
              "      <th>4</th>\n",
              "      <td>2008-12-05</td>\n",
              "      <td>Albury</td>\n",
              "      <td>17.5</td>\n",
              "      <td>32.3</td>\n",
              "      <td>1.0</td>\n",
              "      <td>NaN</td>\n",
              "      <td>NaN</td>\n",
              "      <td>W</td>\n",
              "      <td>41.0</td>\n",
              "      <td>ENE</td>\n",
              "      <td>NW</td>\n",
              "      <td>7.0</td>\n",
              "      <td>20.0</td>\n",
              "      <td>82.0</td>\n",
              "      <td>33.0</td>\n",
              "      <td>1010.8</td>\n",
              "      <td>1006.0</td>\n",
              "      <td>7.0</td>\n",
              "      <td>8.0</td>\n",
              "      <td>17.8</td>\n",
              "      <td>29.7</td>\n",
              "      <td>No</td>\n",
              "      <td>No</td>\n",
              "    </tr>\n",
              "  </tbody>\n",
              "</table>\n",
              "</div>"
            ],
            "text/plain": [
              "         Date Location  MinTemp  ...  Temp3pm  RainToday  RainTomorrow\n",
              "0  2008-12-01   Albury     13.4  ...     21.8         No            No\n",
              "1  2008-12-02   Albury      7.4  ...     24.3         No            No\n",
              "2  2008-12-03   Albury     12.9  ...     23.2         No            No\n",
              "3  2008-12-04   Albury      9.2  ...     26.5         No            No\n",
              "4  2008-12-05   Albury     17.5  ...     29.7         No            No\n",
              "\n",
              "[5 rows x 23 columns]"
            ]
          },
          "metadata": {
            "tags": []
          },
          "execution_count": 4
        }
      ]
    },
    {
      "cell_type": "code",
      "metadata": {
        "id": "rg_YTTCurXpT"
      },
      "source": [
        "for col in df.columns:\n",
        "    df[col] = df[col].astype('category')\n",
        "    df[col] = df[col].cat.codes"
      ],
      "execution_count": null,
      "outputs": []
    },
    {
      "cell_type": "markdown",
      "metadata": {
        "id": "E_lREp3YdzR8"
      },
      "source": [
        "# Data Preprocessing"
      ]
    },
    {
      "cell_type": "markdown",
      "metadata": {
        "id": "muRt5YjQdy7K"
      },
      "source": [
        "Mengubah data kategorikal menjadi data numerikal dengan menggunakan cat codes "
      ]
    },
    {
      "cell_type": "markdown",
      "metadata": {
        "id": "opq4qToWeFBB"
      },
      "source": [
        "Inisiasi variable target yaitu RainTomorrow."
      ]
    },
    {
      "cell_type": "code",
      "metadata": {
        "colab": {
          "base_uri": "https://localhost:8080/",
          "height": 419
        },
        "id": "DO6fs9bBrXsh",
        "outputId": "2cc2b67a-3cd3-4e51-d61a-b77c0c9ee312"
      },
      "source": [
        "df.dropna(inplace=True) # Drop missing values\n",
        "df.describe(include='all')\n",
        "\n",
        "X, y = df.drop(columns=['RainTomorrow']), df['RainTomorrow'] # Membagi data antara input (X) dan output (y)\n",
        "X"
      ],
      "execution_count": null,
      "outputs": [
        {
          "output_type": "execute_result",
          "data": {
            "text/html": [
              "<div>\n",
              "<style scoped>\n",
              "    .dataframe tbody tr th:only-of-type {\n",
              "        vertical-align: middle;\n",
              "    }\n",
              "\n",
              "    .dataframe tbody tr th {\n",
              "        vertical-align: top;\n",
              "    }\n",
              "\n",
              "    .dataframe thead th {\n",
              "        text-align: right;\n",
              "    }\n",
              "</style>\n",
              "<table border=\"1\" class=\"dataframe\">\n",
              "  <thead>\n",
              "    <tr style=\"text-align: right;\">\n",
              "      <th></th>\n",
              "      <th>Date</th>\n",
              "      <th>Location</th>\n",
              "      <th>MinTemp</th>\n",
              "      <th>MaxTemp</th>\n",
              "      <th>Rainfall</th>\n",
              "      <th>Evaporation</th>\n",
              "      <th>Sunshine</th>\n",
              "      <th>WindGustDir</th>\n",
              "      <th>WindGustSpeed</th>\n",
              "      <th>WindDir9am</th>\n",
              "      <th>WindDir3pm</th>\n",
              "      <th>WindSpeed9am</th>\n",
              "      <th>WindSpeed3pm</th>\n",
              "      <th>Humidity9am</th>\n",
              "      <th>Humidity3pm</th>\n",
              "      <th>Pressure9am</th>\n",
              "      <th>Pressure3pm</th>\n",
              "      <th>Cloud9am</th>\n",
              "      <th>Cloud3pm</th>\n",
              "      <th>Temp9am</th>\n",
              "      <th>Temp3pm</th>\n",
              "      <th>RainToday</th>\n",
              "    </tr>\n",
              "  </thead>\n",
              "  <tbody>\n",
              "    <tr>\n",
              "      <th>0</th>\n",
              "      <td>396</td>\n",
              "      <td>2</td>\n",
              "      <td>213</td>\n",
              "      <td>262</td>\n",
              "      <td>6</td>\n",
              "      <td>-1</td>\n",
              "      <td>-1</td>\n",
              "      <td>13</td>\n",
              "      <td>21</td>\n",
              "      <td>13</td>\n",
              "      <td>14</td>\n",
              "      <td>11</td>\n",
              "      <td>13</td>\n",
              "      <td>71</td>\n",
              "      <td>22</td>\n",
              "      <td>215</td>\n",
              "      <td>232</td>\n",
              "      <td>8</td>\n",
              "      <td>-1</td>\n",
              "      <td>224</td>\n",
              "      <td>262</td>\n",
              "      <td>0</td>\n",
              "    </tr>\n",
              "    <tr>\n",
              "      <th>1</th>\n",
              "      <td>397</td>\n",
              "      <td>2</td>\n",
              "      <td>153</td>\n",
              "      <td>284</td>\n",
              "      <td>0</td>\n",
              "      <td>-1</td>\n",
              "      <td>-1</td>\n",
              "      <td>14</td>\n",
              "      <td>21</td>\n",
              "      <td>6</td>\n",
              "      <td>15</td>\n",
              "      <td>2</td>\n",
              "      <td>12</td>\n",
              "      <td>44</td>\n",
              "      <td>25</td>\n",
              "      <td>244</td>\n",
              "      <td>239</td>\n",
              "      <td>-1</td>\n",
              "      <td>-1</td>\n",
              "      <td>227</td>\n",
              "      <td>287</td>\n",
              "      <td>0</td>\n",
              "    </tr>\n",
              "    <tr>\n",
              "      <th>2</th>\n",
              "      <td>398</td>\n",
              "      <td>2</td>\n",
              "      <td>208</td>\n",
              "      <td>290</td>\n",
              "      <td>0</td>\n",
              "      <td>-1</td>\n",
              "      <td>-1</td>\n",
              "      <td>15</td>\n",
              "      <td>22</td>\n",
              "      <td>13</td>\n",
              "      <td>15</td>\n",
              "      <td>10</td>\n",
              "      <td>14</td>\n",
              "      <td>38</td>\n",
              "      <td>30</td>\n",
              "      <td>214</td>\n",
              "      <td>248</td>\n",
              "      <td>-1</td>\n",
              "      <td>2</td>\n",
              "      <td>265</td>\n",
              "      <td>276</td>\n",
              "      <td>0</td>\n",
              "    </tr>\n",
              "    <tr>\n",
              "      <th>3</th>\n",
              "      <td>399</td>\n",
              "      <td>2</td>\n",
              "      <td>171</td>\n",
              "      <td>313</td>\n",
              "      <td>0</td>\n",
              "      <td>-1</td>\n",
              "      <td>-1</td>\n",
              "      <td>4</td>\n",
              "      <td>10</td>\n",
              "      <td>9</td>\n",
              "      <td>0</td>\n",
              "      <td>6</td>\n",
              "      <td>5</td>\n",
              "      <td>45</td>\n",
              "      <td>16</td>\n",
              "      <td>314</td>\n",
              "      <td>290</td>\n",
              "      <td>-1</td>\n",
              "      <td>-1</td>\n",
              "      <td>236</td>\n",
              "      <td>309</td>\n",
              "      <td>0</td>\n",
              "    </tr>\n",
              "    <tr>\n",
              "      <th>4</th>\n",
              "      <td>400</td>\n",
              "      <td>2</td>\n",
              "      <td>254</td>\n",
              "      <td>356</td>\n",
              "      <td>10</td>\n",
              "      <td>-1</td>\n",
              "      <td>-1</td>\n",
              "      <td>13</td>\n",
              "      <td>19</td>\n",
              "      <td>1</td>\n",
              "      <td>7</td>\n",
              "      <td>4</td>\n",
              "      <td>11</td>\n",
              "      <td>82</td>\n",
              "      <td>33</td>\n",
              "      <td>246</td>\n",
              "      <td>221</td>\n",
              "      <td>7</td>\n",
              "      <td>8</td>\n",
              "      <td>233</td>\n",
              "      <td>341</td>\n",
              "      <td>0</td>\n",
              "    </tr>\n",
              "    <tr>\n",
              "      <th>...</th>\n",
              "      <td>...</td>\n",
              "      <td>...</td>\n",
              "      <td>...</td>\n",
              "      <td>...</td>\n",
              "      <td>...</td>\n",
              "      <td>...</td>\n",
              "      <td>...</td>\n",
              "      <td>...</td>\n",
              "      <td>...</td>\n",
              "      <td>...</td>\n",
              "      <td>...</td>\n",
              "      <td>...</td>\n",
              "      <td>...</td>\n",
              "      <td>...</td>\n",
              "      <td>...</td>\n",
              "      <td>...</td>\n",
              "      <td>...</td>\n",
              "      <td>...</td>\n",
              "      <td>...</td>\n",
              "      <td>...</td>\n",
              "      <td>...</td>\n",
              "      <td>...</td>\n",
              "    </tr>\n",
              "    <tr>\n",
              "      <th>145455</th>\n",
              "      <td>3431</td>\n",
              "      <td>41</td>\n",
              "      <td>107</td>\n",
              "      <td>267</td>\n",
              "      <td>0</td>\n",
              "      <td>-1</td>\n",
              "      <td>-1</td>\n",
              "      <td>0</td>\n",
              "      <td>14</td>\n",
              "      <td>9</td>\n",
              "      <td>1</td>\n",
              "      <td>7</td>\n",
              "      <td>6</td>\n",
              "      <td>51</td>\n",
              "      <td>24</td>\n",
              "      <td>384</td>\n",
              "      <td>366</td>\n",
              "      <td>-1</td>\n",
              "      <td>-1</td>\n",
              "      <td>156</td>\n",
              "      <td>268</td>\n",
              "      <td>0</td>\n",
              "    </tr>\n",
              "    <tr>\n",
              "      <th>145456</th>\n",
              "      <td>3432</td>\n",
              "      <td>41</td>\n",
              "      <td>115</td>\n",
              "      <td>286</td>\n",
              "      <td>0</td>\n",
              "      <td>-1</td>\n",
              "      <td>-1</td>\n",
              "      <td>6</td>\n",
              "      <td>9</td>\n",
              "      <td>9</td>\n",
              "      <td>3</td>\n",
              "      <td>7</td>\n",
              "      <td>5</td>\n",
              "      <td>56</td>\n",
              "      <td>21</td>\n",
              "      <td>373</td>\n",
              "      <td>354</td>\n",
              "      <td>-1</td>\n",
              "      <td>-1</td>\n",
              "      <td>164</td>\n",
              "      <td>289</td>\n",
              "      <td>0</td>\n",
              "    </tr>\n",
              "    <tr>\n",
              "      <th>145457</th>\n",
              "      <td>3433</td>\n",
              "      <td>41</td>\n",
              "      <td>133</td>\n",
              "      <td>302</td>\n",
              "      <td>0</td>\n",
              "      <td>-1</td>\n",
              "      <td>-1</td>\n",
              "      <td>3</td>\n",
              "      <td>17</td>\n",
              "      <td>9</td>\n",
              "      <td>14</td>\n",
              "      <td>5</td>\n",
              "      <td>5</td>\n",
              "      <td>53</td>\n",
              "      <td>24</td>\n",
              "      <td>348</td>\n",
              "      <td>331</td>\n",
              "      <td>-1</td>\n",
              "      <td>-1</td>\n",
              "      <td>180</td>\n",
              "      <td>305</td>\n",
              "      <td>0</td>\n",
              "    </tr>\n",
              "    <tr>\n",
              "      <th>145458</th>\n",
              "      <td>3434</td>\n",
              "      <td>41</td>\n",
              "      <td>157</td>\n",
              "      <td>303</td>\n",
              "      <td>0</td>\n",
              "      <td>-1</td>\n",
              "      <td>-1</td>\n",
              "      <td>9</td>\n",
              "      <td>12</td>\n",
              "      <td>10</td>\n",
              "      <td>3</td>\n",
              "      <td>7</td>\n",
              "      <td>4</td>\n",
              "      <td>51</td>\n",
              "      <td>24</td>\n",
              "      <td>332</td>\n",
              "      <td>327</td>\n",
              "      <td>3</td>\n",
              "      <td>2</td>\n",
              "      <td>206</td>\n",
              "      <td>304</td>\n",
              "      <td>0</td>\n",
              "    </tr>\n",
              "    <tr>\n",
              "      <th>145459</th>\n",
              "      <td>3435</td>\n",
              "      <td>41</td>\n",
              "      <td>228</td>\n",
              "      <td>-1</td>\n",
              "      <td>0</td>\n",
              "      <td>-1</td>\n",
              "      <td>-1</td>\n",
              "      <td>-1</td>\n",
              "      <td>-1</td>\n",
              "      <td>2</td>\n",
              "      <td>2</td>\n",
              "      <td>9</td>\n",
              "      <td>9</td>\n",
              "      <td>62</td>\n",
              "      <td>36</td>\n",
              "      <td>340</td>\n",
              "      <td>342</td>\n",
              "      <td>8</td>\n",
              "      <td>8</td>\n",
              "      <td>205</td>\n",
              "      <td>253</td>\n",
              "      <td>0</td>\n",
              "    </tr>\n",
              "  </tbody>\n",
              "</table>\n",
              "<p>145460 rows × 22 columns</p>\n",
              "</div>"
            ],
            "text/plain": [
              "        Date  Location  MinTemp  MaxTemp  ...  Cloud3pm  Temp9am  Temp3pm  RainToday\n",
              "0        396         2      213      262  ...        -1      224      262          0\n",
              "1        397         2      153      284  ...        -1      227      287          0\n",
              "2        398         2      208      290  ...         2      265      276          0\n",
              "3        399         2      171      313  ...        -1      236      309          0\n",
              "4        400         2      254      356  ...         8      233      341          0\n",
              "...      ...       ...      ...      ...  ...       ...      ...      ...        ...\n",
              "145455  3431        41      107      267  ...        -1      156      268          0\n",
              "145456  3432        41      115      286  ...        -1      164      289          0\n",
              "145457  3433        41      133      302  ...        -1      180      305          0\n",
              "145458  3434        41      157      303  ...         2      206      304          0\n",
              "145459  3435        41      228       -1  ...         8      205      253          0\n",
              "\n",
              "[145460 rows x 22 columns]"
            ]
          },
          "metadata": {
            "tags": []
          },
          "execution_count": 6
        }
      ]
    },
    {
      "cell_type": "markdown",
      "metadata": {
        "id": "PvqQJPmJeLE2"
      },
      "source": [
        "# UJI COBA K-Nearest Neighbors"
      ]
    },
    {
      "cell_type": "markdown",
      "metadata": {
        "id": "GqvPbJ9jeUfT"
      },
      "source": [
        "Pertama, inisialisasi variasi untuk knn_test. Diantaranya kami memvariasikan test size, n_neighbour, dan weights."
      ]
    },
    {
      "cell_type": "code",
      "metadata": {
        "id": "AjpAXtBRtj9d"
      },
      "source": [
        "knn_test = {\n",
        "  'test_size': [0.1, 0.2, 0.3, 0.4, 0.5, 0.6],  \n",
        "  'n_neighbor': [3, 5, 7, 9, 11, 13, 15, 17],\n",
        "  'weights': ['uniform', 'distance'],\n",
        "}"
      ],
      "execution_count": null,
      "outputs": []
    },
    {
      "cell_type": "markdown",
      "metadata": {
        "id": "CZODaZ46e9ov"
      },
      "source": [
        "Inisialisasi K-Nearest Neigbors menggunakan looping dengan variasi yang telah diinisialisasi sebelumnya. Setelah itu diinisialisasi untuk print hasilnya."
      ]
    },
    {
      "cell_type": "code",
      "metadata": {
        "colab": {
          "background_save": true,
          "base_uri": "https://localhost:8080/"
        },
        "id": "PE2DIljOtkBZ",
        "outputId": "569ca94b-e41d-4ede-962f-0f5b5f1a7bd3"
      },
      "source": [
        "row_format =\"{:>10}\" * (len(knn_test) + 2)\n",
        "print(row_format.format(*knn_test, 'akurasi', 'f1'))\n",
        "acc_bfr = -math.inf\n",
        "for i in knn_test['test_size']:\n",
        "  for j in knn_test['n_neighbor']:\n",
        "    for k in knn_test['weights']:\n",
        "        X_train, X_test, y_train, y_test = train_test_split(X, y, test_size=i, random_state=42)\n",
        "        knn = KNeighborsClassifier(n_neighbors=j, weights=k)\n",
        "        knn.fit(X_train, y_train)\n",
        "\n",
        "        # print(y_test)\n",
        "        pred = knn.predict(X_test)\n",
        "        acc = metrics.accuracy_score(y_test, pred)\n",
        "        f1 = metrics.f1_score(y_test, pred, average='micro')\n",
        "        \n",
        "        print(row_format.format(str(i), str(j), str(k), '%.3f' % acc, '%.3f' % f1))\n"
      ],
      "execution_count": null,
      "outputs": [
        {
          "output_type": "stream",
          "text": [
            " test_sizen_neighbor   weights   akurasi        f1\n",
            "       0.1         3   uniform     0.812     0.812\n",
            "       0.1         3  distance     0.817     0.817\n",
            "       0.1         5   uniform     0.815     0.815\n",
            "       0.1         5  distance     0.820     0.820\n",
            "       0.1         7   uniform     0.816     0.816\n",
            "       0.1         7  distance     0.821     0.821\n",
            "       0.1         9   uniform     0.817     0.817\n",
            "       0.1         9  distance     0.822     0.822\n",
            "       0.1        11   uniform     0.813     0.813\n",
            "       0.1        11  distance     0.819     0.819\n",
            "       0.1        13   uniform     0.812     0.812\n",
            "       0.1        13  distance     0.818     0.818\n",
            "       0.1        15   uniform     0.814     0.814\n",
            "       0.1        15  distance     0.819     0.819\n",
            "       0.1        17   uniform     0.813     0.813\n",
            "       0.1        17  distance     0.818     0.818\n",
            "       0.2         3   uniform     0.810     0.810\n",
            "       0.2         3  distance     0.815     0.815\n",
            "       0.2         5   uniform     0.814     0.814\n",
            "       0.2         5  distance     0.818     0.818\n",
            "       0.2         7   uniform     0.816     0.816\n",
            "       0.2         7  distance     0.820     0.820\n",
            "       0.2         9   uniform     0.816     0.816\n",
            "       0.2         9  distance     0.821     0.821\n",
            "       0.2        11   uniform     0.815     0.815\n",
            "       0.2        11  distance     0.820     0.820\n",
            "       0.2        13   uniform     0.814     0.814\n",
            "       0.2        13  distance     0.819     0.819\n",
            "       0.2        15   uniform     0.814     0.814\n",
            "       0.2        15  distance     0.818     0.818\n",
            "       0.2        17   uniform     0.814     0.814\n",
            "       0.2        17  distance     0.819     0.819\n",
            "       0.3         3   uniform     0.805     0.805\n",
            "       0.3         3  distance     0.810     0.810\n",
            "       0.3         5   uniform     0.812     0.812\n",
            "       0.3         5  distance     0.816     0.816\n",
            "       0.3         7   uniform     0.814     0.814\n",
            "       0.3         7  distance     0.817     0.817\n",
            "       0.3         9   uniform     0.816     0.816\n",
            "       0.3         9  distance     0.819     0.819\n",
            "       0.3        11   uniform     0.815     0.815\n",
            "       0.3        11  distance     0.819     0.819\n",
            "       0.3        13   uniform     0.815     0.815\n",
            "       0.3        13  distance     0.819     0.819\n",
            "       0.3        15   uniform     0.815     0.815\n",
            "       0.3        15  distance     0.819     0.819\n",
            "       0.3        17   uniform     0.814     0.814\n",
            "       0.3        17  distance     0.819     0.819\n",
            "       0.4         3   uniform     0.800     0.800\n",
            "       0.4         3  distance     0.806     0.806\n",
            "       0.4         5   uniform     0.808     0.808\n",
            "       0.4         5  distance     0.812     0.812\n",
            "       0.4         7   uniform     0.812     0.812\n",
            "       0.4         7  distance     0.815     0.815\n",
            "       0.4         9   uniform     0.813     0.813\n",
            "       0.4         9  distance     0.816     0.816\n",
            "       0.4        11   uniform     0.812     0.812\n",
            "       0.4        11  distance     0.816     0.816\n",
            "       0.4        13   uniform     0.812     0.812\n",
            "       0.4        13  distance     0.816     0.816\n",
            "       0.4        15   uniform     0.812     0.812\n",
            "       0.4        15  distance     0.816     0.816\n",
            "       0.4        17   uniform     0.812     0.812\n",
            "       0.4        17  distance     0.816     0.816\n",
            "       0.5         3   uniform     0.797     0.797\n",
            "       0.5         3  distance     0.802     0.802\n",
            "       0.5         5   uniform     0.807     0.807\n",
            "       0.5         5  distance     0.810     0.810\n",
            "       0.5         7   uniform     0.809     0.809\n",
            "       0.5         7  distance     0.813     0.813\n",
            "       0.5         9   uniform     0.810     0.810\n",
            "       0.5         9  distance     0.813     0.813\n",
            "       0.5        11   uniform     0.810     0.810\n",
            "       0.5        11  distance     0.814     0.814\n",
            "       0.5        13   uniform     0.811     0.811\n",
            "       0.5        13  distance     0.815     0.815\n",
            "       0.5        15   uniform     0.811     0.811\n",
            "       0.5        15  distance     0.815     0.815\n",
            "       0.5        17   uniform     0.811     0.811\n",
            "       0.5        17  distance     0.815     0.815\n",
            "       0.6         3   uniform     0.795     0.795\n",
            "       0.6         3  distance     0.800     0.800\n",
            "       0.6         5   uniform     0.805     0.805\n",
            "       0.6         5  distance     0.807     0.807\n",
            "       0.6         7   uniform     0.808     0.808\n",
            "       0.6         7  distance     0.811     0.811\n",
            "       0.6         9   uniform     0.809     0.809\n",
            "       0.6         9  distance     0.812     0.812\n",
            "       0.6        11   uniform     0.810     0.810\n",
            "       0.6        11  distance     0.813     0.813\n",
            "       0.6        13   uniform     0.810     0.810\n",
            "       0.6        13  distance     0.813     0.813\n",
            "       0.6        15   uniform     0.810     0.810\n",
            "       0.6        15  distance     0.814     0.814\n",
            "       0.6        17   uniform     0.810     0.810\n",
            "       0.6        17  distance     0.814     0.814\n"
          ],
          "name": "stdout"
        }
      ]
    },
    {
      "cell_type": "markdown",
      "metadata": {
        "id": "nyLccrYCfoNv"
      },
      "source": [
        "# Variasi Parameter Terbaik"
      ]
    },
    {
      "cell_type": "markdown",
      "metadata": {
        "id": "xs7YIjdkfPZn"
      },
      "source": [
        "Menginisialisasi untuk mencari variasi parameter terbaik yang dihasilkan dari sebelumnya. Kemudian di print dengan parameter ( t_size': i, 'n_neighbors': j, 'weights': k, 'accuracy': acc, 'f1': f1)"
      ]
    },
    {
      "cell_type": "code",
      "metadata": {
        "colab": {
          "background_save": true
        },
        "id": "pwooNGxeBiu3",
        "outputId": "79efb0c9-23d2-4457-c082-804621ee683b"
      },
      "source": [
        "if(acc > acc_bfr):\n",
        "          acc_bfr = acc\n",
        "          visualization_knn = {'t_size': i, 'n_neighbors': j, 'weights': k, 'accuracy': acc, 'f1': f1}\n",
        "\n",
        "print('best param: ', visualization_knn)"
      ],
      "execution_count": null,
      "outputs": [
        {
          "output_type": "stream",
          "text": [
            "best param:  {'t_size': 0.6, 'n_neighbors': 17, 'weights': 'distance', 'accuracy': 0.8137059443604198, 'f1': 0.8137059443604198}\n"
          ],
          "name": "stdout"
        }
      ]
    },
    {
      "cell_type": "markdown",
      "metadata": {
        "id": "oc-YrJkZf6vz"
      },
      "source": [
        "# KESIMPULAN"
      ]
    },
    {
      "cell_type": "markdown",
      "metadata": {
        "id": "P7Eky2yXgCtT"
      },
      "source": [
        "Variasi parameter yang didapatkan adalah data dengan data size 60%, menggunakan N Neighbors = 18, dengan weights = distance didapatkan akurasi = 0.8137059443604198"
      ]
    }
  ]
}